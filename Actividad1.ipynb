{
  "nbformat": 4,
  "nbformat_minor": 0,
  "metadata": {
    "colab": {
      "provenance": [],
      "toc_visible": true,
      "authorship_tag": "ABX9TyPaObqryq2vdY7dCj3zUJQb",
      "include_colab_link": true
    },
    "kernelspec": {
      "name": "python3",
      "display_name": "Python 3"
    },
    "language_info": {
      "name": "python"
    }
  },
  "cells": [
    {
      "cell_type": "markdown",
      "metadata": {
        "id": "view-in-github",
        "colab_type": "text"
      },
      "source": [
        "<a href=\"https://colab.research.google.com/github/danielamendezgandara/Actividad1Python/blob/main/Actividad1.ipynb\" target=\"_parent\"><img src=\"https://colab.research.google.com/assets/colab-badge.svg\" alt=\"Open In Colab\"/></a>"
      ]
    },
    {
      "cell_type": "code",
      "execution_count": 1,
      "metadata": {
        "colab": {
          "base_uri": "https://localhost:8080/"
        },
        "id": "O_JUCbEcKRs2",
        "outputId": "b611a99f-14c0-4896-a410-7a6d92cc1baf"
      },
      "outputs": [
        {
          "output_type": "stream",
          "name": "stdout",
          "text": [
            "Hola Mundo\n"
          ]
        }
      ],
      "source": [
        "print(\"Hola Mundo\")"
      ]
    },
    {
      "cell_type": "code",
      "source": [
        "print(\"¡Bienvenido al programa interactivo!\")\n",
        "nombre = input(\"¿Cómo te llamas? \")\n",
        "edad = input(\"¿Cuántos años tienes? \")\n",
        "pais = input(\"¿De qué país eres? \")\n",
        "\n",
        "print(\"\\nResumen de tu información:\")\n",
        "print(f\"Nombre: {nombre}\")\n",
        "print(f\"Edad: {edad}\")\n",
        "#print(f\"País: {pais}\")\n",
        "\n",
        "print(f\"\\nHola {nombre}, tienes {edad} años y vienes de {pais}. ¡Genial!\")"
      ],
      "metadata": {
        "colab": {
          "base_uri": "https://localhost:8080/"
        },
        "id": "Z2HyEZuQPaH6",
        "outputId": "c11faa5d-fd99-46a8-8d43-5d568640e273"
      },
      "execution_count": 2,
      "outputs": [
        {
          "output_type": "stream",
          "name": "stdout",
          "text": [
            "¡Bienvenido al programa interactivo!\n",
            "¿Cómo te llamas? Daniela\n",
            "¿Cuántos años tienes? 35\n",
            "¿De qué país eres? Chile\n",
            "\n",
            "Resumen de tu información:\n",
            "Nombre: Daniela\n",
            "Edad: 35\n",
            "País: Chile\n",
            "\n",
            "Hola Daniela, tienes 35 años y vienes de Chile. ¡Genial!\n"
          ]
        }
      ]
    }
  ]
}